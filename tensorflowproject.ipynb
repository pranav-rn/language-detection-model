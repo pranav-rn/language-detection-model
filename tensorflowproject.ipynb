{
  "nbformat": 4,
  "nbformat_minor": 0,
  "metadata": {
    "colab": {
      "provenance": [],
      "gpuType": "T4",
      "include_colab_link": true
    },
    "kernelspec": {
      "name": "python3",
      "display_name": "Python 3"
    },
    "language_info": {
      "name": "python"
    },
    "accelerator": "GPU"
  },
  "cells": [
    {
      "cell_type": "markdown",
      "metadata": {
        "id": "view-in-github",
        "colab_type": "text"
      },
      "source": [
        "<a href=\"https://colab.research.google.com/github/pranav-rn/language-detection-model/blob/main/tensorflowproject.ipynb\" target=\"_parent\"><img src=\"https://colab.research.google.com/assets/colab-badge.svg\" alt=\"Open In Colab\"/></a>"
      ]
    },
    {
      "cell_type": "markdown",
      "source": [
        "# Language Detection by NLP Classification Techniques\n",
        "\n",
        "This project involves detecting the language of the input text\n",
        "\n",
        "There are four languages the model can detect-\n",
        "\n",
        "\n",
        "*   English\n",
        "*   German\n",
        "*   French\n",
        "*   Spanish\n",
        "\n"
      ],
      "metadata": {
        "id": "F8Qsa__UKO9A"
      }
    },
    {
      "cell_type": "markdown",
      "source": [
        "# Importing Libraries and Dataset"
      ],
      "metadata": {
        "id": "14Rb0et_KWiv"
      }
    },
    {
      "cell_type": "code",
      "execution_count": null,
      "metadata": {
        "id": "jmGegYQz9w_5"
      },
      "outputs": [],
      "source": [
        "import tensorflow as tf"
      ]
    },
    {
      "cell_type": "markdown",
      "source": [
        "### Reading the csv file\n",
        "\n",
        "We define a function to read the csv file, line by line and split the line at comma"
      ],
      "metadata": {
        "id": "G4Bp_yeNLWE4"
      }
    },
    {
      "cell_type": "code",
      "source": [
        "def get_lines(filename):\n",
        "    with open(filename, 'r', encoding='utf-8', errors='ignore') as file:\n",
        "        return file.readlines()\n",
        "\n",
        "def preprocess_text_with_line_numbers(filename):\n",
        "    input_lines = get_lines(filename)\n",
        "    abstract_samples = []\n",
        "    for line in input_lines[1:]:  # Skip the header line\n",
        "        line_data = {}\n",
        "        parts = line.strip().split(',', 1)  # Split only on the first comma\n",
        "        if len(parts) >= 2:  # Ensure at least two parts exist\n",
        "            line_data[\"text\"] = parts[0].strip().lower()  # Extract and clean text\n",
        "            line_data[\"language\"] = parts[1].strip().lower()  # Extract and clean language\n",
        "            abstract_samples.append(line_data)\n",
        "        else:\n",
        "            print(\"Warning: Skipping line with insufficient columns:\", line)\n",
        "    # Add line numbers and total lines for each sample\n",
        "    for idx, abstract_sample in enumerate(abstract_samples):\n",
        "        abstract_sample[\"line_number\"] = idx\n",
        "        abstract_sample[\"total_lines\"] = len(abstract_samples)\n",
        "    return abstract_samples\n",
        "\n",
        "\n",
        "\n",
        "\n",
        "def split_chars(text):\n",
        "    return \" \".join(list(text))"
      ],
      "metadata": {
        "id": "j_gEDjfA95-R"
      },
      "execution_count": null,
      "outputs": []
    },
    {
      "cell_type": "code",
      "source": [
        "import os\n",
        "\n",
        "data_file = '/content/languagesproject.csv'\n",
        "\n",
        "if os.path.exists(data_file):\n",
        "    filenames = [data_file]\n",
        "    print(filenames)"
      ],
      "metadata": {
        "colab": {
          "base_uri": "https://localhost:8080/"
        },
        "id": "HWuIoytN-hPe",
        "outputId": "9e7aae39-af3b-46f8-9bea-cfc4af9798f2"
      },
      "execution_count": null,
      "outputs": [
        {
          "output_type": "stream",
          "name": "stdout",
          "text": [
            "['/content/languagesproject.csv']\n"
          ]
        }
      ]
    },
    {
      "cell_type": "code",
      "source": [
        "get_lines(filenames[0])[:20]"
      ],
      "metadata": {
        "colab": {
          "base_uri": "https://localhost:8080/"
        },
        "id": "3zRj2V5XAABX",
        "outputId": "0e447813-32a4-4ddc-8954-2aae80e0a19d"
      },
      "execution_count": null,
      "outputs": [
        {
          "output_type": "execute_result",
          "data": {
            "text/plain": [
              "['text,language\\n',\n",
              " 'ich denke es handelt sich hier um ein missverständnis,german\\n',\n",
              " 'ich habe tom gerade erst verlassen,german\\n',\n",
              " 'tom versuchte mary nur zu ärgern,german\\n',\n",
              " 'tom hat mir die hand geküsst,german\\n',\n",
              " 'ich wusste dass dir das gefiele,german\\n',\n",
              " 'gehen sie mir aus dem weg,german\\n',\n",
              " 'zieht eure schlafanzüge an,german\\n',\n",
              " 'als kind war ich süchtig nach kriminalromanen,german\\n',\n",
              " 'ich habe das auto mit zehn prozent rabatt gekauft,german\\n',\n",
              " 'niemand anders könnte meine arbeit machen,german\\n',\n",
              " 'du bist ein gefangener,german\\n',\n",
              " 'ich gebe dir was du willst,german\\n',\n",
              " 'ich will jetzt nicht weg,german\\n',\n",
              " 'ich habe ihr mein zimmer gezeigt,german\\n',\n",
              " 'ich wüsste nicht weshalb ich mich entschuldigen sollte,german\\n',\n",
              " 'es war kein schöner anblick,german\\n',\n",
              " 'was habt ihr denn die ganze zeit gemacht,german\\n',\n",
              " 'das kind da sieht wie tom aus,german\\n',\n",
              " 'tom wird sich freuen dich wiederzusehen,german\\n']"
            ]
          },
          "metadata": {},
          "execution_count": 73
        }
      ]
    },
    {
      "cell_type": "code",
      "source": [
        "import pandas as pd\n",
        "\n",
        "# Read the CSV file into a DataFrame\n",
        "df = pd.read_csv('languagesproject.csv')\n",
        "\n",
        "# Shuffle the rows of the DataFrame\n",
        "df_shuffled = df.sample(frac=1, random_state=42)  # Shuffle with a fixed random state for reproducibility\n",
        "\n",
        "# Write the shuffled DataFrame back to the CSV file, excluding the index\n",
        "df_shuffled.to_csv('shuffled_languagesproject.csv', index=False)\n"
      ],
      "metadata": {
        "id": "t0tG-XuAlWgq"
      },
      "execution_count": null,
      "outputs": []
    },
    {
      "cell_type": "code",
      "source": [
        "get_lines('shuffled_languagesproject.csv')[:20]"
      ],
      "metadata": {
        "colab": {
          "base_uri": "https://localhost:8080/"
        },
        "id": "FN3Ysyeeljzf",
        "outputId": "f7c52339-45e5-4fe8-d2c1-326db8645ed3"
      },
      "execution_count": null,
      "outputs": [
        {
          "output_type": "execute_result",
          "data": {
            "text/plain": [
              "['text,language\\n',\n",
              " 'the grass is always greener on the other side of the fence,english\\n',\n",
              " 'ne le laisse pas le faire par luimême,french\\n',\n",
              " 'no pierdas el tiempo haciendo eso,spanish\\n',\n",
              " 'liebe ist unvernunft,german\\n',\n",
              " 'das lasse ich mir nicht zweimal sagen,german\\n',\n",
              " 'ich weiß nicht wo er sich jetzt aufhält,german\\n',\n",
              " 'está haciendo tiempo frío,spanish\\n',\n",
              " 'wann war das letzte mal dass du auswärts gegessen hast,german\\n',\n",
              " 'sieht so aus als wäre ich hier der einzige der das kann,german\\n',\n",
              " 'mach dich nicht über tom lustig,german\\n',\n",
              " 'i wonder if i hurt toms feelings,english\\n',\n",
              " 'tom tried to cut the deliciouslooking meat with a dull knife,english\\n',\n",
              " 'il habite à la campagne,french\\n',\n",
              " 'der baum ist von alleine umgefallen,german\\n',\n",
              " 'just follow your heart,english\\n',\n",
              " 'although he had many toys his greed made him want more,english\\n',\n",
              " 'tom bought mary a fairly expensive camera,english\\n',\n",
              " 'whats toms job,english\\n',\n",
              " 'tom hat 450\\u202fg käse gekauft,german\\n']"
            ]
          },
          "metadata": {},
          "execution_count": 75
        }
      ]
    },
    {
      "cell_type": "markdown",
      "source": [
        "# Data Preprocessing"
      ],
      "metadata": {
        "id": "7qKCYaI6KceL"
      }
    },
    {
      "cell_type": "code",
      "source": [
        "all_samples = preprocess_text_with_line_numbers('shuffled_languagesproject.csv')\n",
        "\n",
        "\n",
        "import pandas as pd\n",
        "from sklearn.model_selection import train_test_split\n",
        "\n",
        "# Split the data into train, validation, and test sets\n",
        "train_samples, test_samples = train_test_split(all_samples, test_size=0.2, random_state=42)"
      ],
      "metadata": {
        "id": "t4X5CqMGAF8Q"
      },
      "execution_count": null,
      "outputs": []
    },
    {
      "cell_type": "code",
      "source": [
        "len(train_samples),len(test_samples)"
      ],
      "metadata": {
        "id": "XRDK50WREmnu",
        "colab": {
          "base_uri": "https://localhost:8080/"
        },
        "outputId": "4e9ea9b7-b4a6-429d-a9a6-e6714eb5c20c"
      },
      "execution_count": null,
      "outputs": [
        {
          "output_type": "execute_result",
          "data": {
            "text/plain": [
              "(610947, 152737)"
            ]
          },
          "metadata": {},
          "execution_count": 77
        }
      ]
    },
    {
      "cell_type": "code",
      "source": [
        "train_samples, val_samples = train_test_split(train_samples, test_size=0.2, random_state=42)"
      ],
      "metadata": {
        "id": "SHWT7H1DE19c"
      },
      "execution_count": null,
      "outputs": []
    },
    {
      "cell_type": "code",
      "source": [
        "len(train_samples),len(test_samples),len(val_samples)"
      ],
      "metadata": {
        "id": "QmuPKToJFDF1",
        "colab": {
          "base_uri": "https://localhost:8080/"
        },
        "outputId": "670d7f77-5609-4f98-b1ba-8cc71217020c"
      },
      "execution_count": null,
      "outputs": [
        {
          "output_type": "execute_result",
          "data": {
            "text/plain": [
              "(488757, 152737, 122190)"
            ]
          },
          "metadata": {},
          "execution_count": 79
        }
      ]
    },
    {
      "cell_type": "code",
      "source": [
        "df = pd.DataFrame(all_samples)\n",
        "\n",
        "# Get unique values in the language column\n",
        "unique_classes = df['language'].unique()\n",
        "\n",
        "# Count the number of unique classes\n",
        "num_classes = len(unique_classes)\n",
        "num_classes"
      ],
      "metadata": {
        "id": "5-JC8dN4JtFE",
        "colab": {
          "base_uri": "https://localhost:8080/"
        },
        "outputId": "7844017e-751d-49ba-db31-b42c87006f0d"
      },
      "execution_count": null,
      "outputs": [
        {
          "output_type": "execute_result",
          "data": {
            "text/plain": [
              "4"
            ]
          },
          "metadata": {},
          "execution_count": 80
        }
      ]
    },
    {
      "cell_type": "code",
      "source": [
        "import pandas as pd\n",
        "\n",
        "train_df = pd.DataFrame(train_samples)\n",
        "val_df = pd.DataFrame(val_samples)\n",
        "test_df = pd.DataFrame(test_samples)\n",
        "\n",
        "train_df.head()"
      ],
      "metadata": {
        "id": "SPGxqQO9FKhJ",
        "colab": {
          "base_uri": "https://localhost:8080/",
          "height": 206
        },
        "outputId": "fbfa4bee-e376-4153-ac87-7b4b78b4779f"
      },
      "execution_count": null,
      "outputs": [
        {
          "output_type": "execute_result",
          "data": {
            "text/plain": [
              "                                                text language  line_number  \\\n",
              "0  si vous acceptez den commander 3000 nous vous ...   french       118941   \n",
              "1                           tom está culpando a mary  spanish       651421   \n",
              "2                       oh no mi casa está en llamas  spanish        34021   \n",
              "3                        desde arriba se veía el río  spanish       736989   \n",
              "4                      tu ne peux pas le gérer seule   french       490056   \n",
              "\n",
              "   total_lines  \n",
              "0       763684  \n",
              "1       763684  \n",
              "2       763684  \n",
              "3       763684  \n",
              "4       763684  "
            ],
            "text/html": [
              "\n",
              "  <div id=\"df-fa23301f-53e5-4743-ba33-df7ef845979e\" class=\"colab-df-container\">\n",
              "    <div>\n",
              "<style scoped>\n",
              "    .dataframe tbody tr th:only-of-type {\n",
              "        vertical-align: middle;\n",
              "    }\n",
              "\n",
              "    .dataframe tbody tr th {\n",
              "        vertical-align: top;\n",
              "    }\n",
              "\n",
              "    .dataframe thead th {\n",
              "        text-align: right;\n",
              "    }\n",
              "</style>\n",
              "<table border=\"1\" class=\"dataframe\">\n",
              "  <thead>\n",
              "    <tr style=\"text-align: right;\">\n",
              "      <th></th>\n",
              "      <th>text</th>\n",
              "      <th>language</th>\n",
              "      <th>line_number</th>\n",
              "      <th>total_lines</th>\n",
              "    </tr>\n",
              "  </thead>\n",
              "  <tbody>\n",
              "    <tr>\n",
              "      <th>0</th>\n",
              "      <td>si vous acceptez den commander 3000 nous vous ...</td>\n",
              "      <td>french</td>\n",
              "      <td>118941</td>\n",
              "      <td>763684</td>\n",
              "    </tr>\n",
              "    <tr>\n",
              "      <th>1</th>\n",
              "      <td>tom está culpando a mary</td>\n",
              "      <td>spanish</td>\n",
              "      <td>651421</td>\n",
              "      <td>763684</td>\n",
              "    </tr>\n",
              "    <tr>\n",
              "      <th>2</th>\n",
              "      <td>oh no mi casa está en llamas</td>\n",
              "      <td>spanish</td>\n",
              "      <td>34021</td>\n",
              "      <td>763684</td>\n",
              "    </tr>\n",
              "    <tr>\n",
              "      <th>3</th>\n",
              "      <td>desde arriba se veía el río</td>\n",
              "      <td>spanish</td>\n",
              "      <td>736989</td>\n",
              "      <td>763684</td>\n",
              "    </tr>\n",
              "    <tr>\n",
              "      <th>4</th>\n",
              "      <td>tu ne peux pas le gérer seule</td>\n",
              "      <td>french</td>\n",
              "      <td>490056</td>\n",
              "      <td>763684</td>\n",
              "    </tr>\n",
              "  </tbody>\n",
              "</table>\n",
              "</div>\n",
              "    <div class=\"colab-df-buttons\">\n",
              "\n",
              "  <div class=\"colab-df-container\">\n",
              "    <button class=\"colab-df-convert\" onclick=\"convertToInteractive('df-fa23301f-53e5-4743-ba33-df7ef845979e')\"\n",
              "            title=\"Convert this dataframe to an interactive table.\"\n",
              "            style=\"display:none;\">\n",
              "\n",
              "  <svg xmlns=\"http://www.w3.org/2000/svg\" height=\"24px\" viewBox=\"0 -960 960 960\">\n",
              "    <path d=\"M120-120v-720h720v720H120Zm60-500h600v-160H180v160Zm220 220h160v-160H400v160Zm0 220h160v-160H400v160ZM180-400h160v-160H180v160Zm440 0h160v-160H620v160ZM180-180h160v-160H180v160Zm440 0h160v-160H620v160Z\"/>\n",
              "  </svg>\n",
              "    </button>\n",
              "\n",
              "  <style>\n",
              "    .colab-df-container {\n",
              "      display:flex;\n",
              "      gap: 12px;\n",
              "    }\n",
              "\n",
              "    .colab-df-convert {\n",
              "      background-color: #E8F0FE;\n",
              "      border: none;\n",
              "      border-radius: 50%;\n",
              "      cursor: pointer;\n",
              "      display: none;\n",
              "      fill: #1967D2;\n",
              "      height: 32px;\n",
              "      padding: 0 0 0 0;\n",
              "      width: 32px;\n",
              "    }\n",
              "\n",
              "    .colab-df-convert:hover {\n",
              "      background-color: #E2EBFA;\n",
              "      box-shadow: 0px 1px 2px rgba(60, 64, 67, 0.3), 0px 1px 3px 1px rgba(60, 64, 67, 0.15);\n",
              "      fill: #174EA6;\n",
              "    }\n",
              "\n",
              "    .colab-df-buttons div {\n",
              "      margin-bottom: 4px;\n",
              "    }\n",
              "\n",
              "    [theme=dark] .colab-df-convert {\n",
              "      background-color: #3B4455;\n",
              "      fill: #D2E3FC;\n",
              "    }\n",
              "\n",
              "    [theme=dark] .colab-df-convert:hover {\n",
              "      background-color: #434B5C;\n",
              "      box-shadow: 0px 1px 3px 1px rgba(0, 0, 0, 0.15);\n",
              "      filter: drop-shadow(0px 1px 2px rgba(0, 0, 0, 0.3));\n",
              "      fill: #FFFFFF;\n",
              "    }\n",
              "  </style>\n",
              "\n",
              "    <script>\n",
              "      const buttonEl =\n",
              "        document.querySelector('#df-fa23301f-53e5-4743-ba33-df7ef845979e button.colab-df-convert');\n",
              "      buttonEl.style.display =\n",
              "        google.colab.kernel.accessAllowed ? 'block' : 'none';\n",
              "\n",
              "      async function convertToInteractive(key) {\n",
              "        const element = document.querySelector('#df-fa23301f-53e5-4743-ba33-df7ef845979e');\n",
              "        const dataTable =\n",
              "          await google.colab.kernel.invokeFunction('convertToInteractive',\n",
              "                                                    [key], {});\n",
              "        if (!dataTable) return;\n",
              "\n",
              "        const docLinkHtml = 'Like what you see? Visit the ' +\n",
              "          '<a target=\"_blank\" href=https://colab.research.google.com/notebooks/data_table.ipynb>data table notebook</a>'\n",
              "          + ' to learn more about interactive tables.';\n",
              "        element.innerHTML = '';\n",
              "        dataTable['output_type'] = 'display_data';\n",
              "        await google.colab.output.renderOutput(dataTable, element);\n",
              "        const docLink = document.createElement('div');\n",
              "        docLink.innerHTML = docLinkHtml;\n",
              "        element.appendChild(docLink);\n",
              "      }\n",
              "    </script>\n",
              "  </div>\n",
              "\n",
              "\n",
              "<div id=\"df-04b39397-a3c8-4f9e-a3f0-bb17921cce78\">\n",
              "  <button class=\"colab-df-quickchart\" onclick=\"quickchart('df-04b39397-a3c8-4f9e-a3f0-bb17921cce78')\"\n",
              "            title=\"Suggest charts\"\n",
              "            style=\"display:none;\">\n",
              "\n",
              "<svg xmlns=\"http://www.w3.org/2000/svg\" height=\"24px\"viewBox=\"0 0 24 24\"\n",
              "     width=\"24px\">\n",
              "    <g>\n",
              "        <path d=\"M19 3H5c-1.1 0-2 .9-2 2v14c0 1.1.9 2 2 2h14c1.1 0 2-.9 2-2V5c0-1.1-.9-2-2-2zM9 17H7v-7h2v7zm4 0h-2V7h2v10zm4 0h-2v-4h2v4z\"/>\n",
              "    </g>\n",
              "</svg>\n",
              "  </button>\n",
              "\n",
              "<style>\n",
              "  .colab-df-quickchart {\n",
              "      --bg-color: #E8F0FE;\n",
              "      --fill-color: #1967D2;\n",
              "      --hover-bg-color: #E2EBFA;\n",
              "      --hover-fill-color: #174EA6;\n",
              "      --disabled-fill-color: #AAA;\n",
              "      --disabled-bg-color: #DDD;\n",
              "  }\n",
              "\n",
              "  [theme=dark] .colab-df-quickchart {\n",
              "      --bg-color: #3B4455;\n",
              "      --fill-color: #D2E3FC;\n",
              "      --hover-bg-color: #434B5C;\n",
              "      --hover-fill-color: #FFFFFF;\n",
              "      --disabled-bg-color: #3B4455;\n",
              "      --disabled-fill-color: #666;\n",
              "  }\n",
              "\n",
              "  .colab-df-quickchart {\n",
              "    background-color: var(--bg-color);\n",
              "    border: none;\n",
              "    border-radius: 50%;\n",
              "    cursor: pointer;\n",
              "    display: none;\n",
              "    fill: var(--fill-color);\n",
              "    height: 32px;\n",
              "    padding: 0;\n",
              "    width: 32px;\n",
              "  }\n",
              "\n",
              "  .colab-df-quickchart:hover {\n",
              "    background-color: var(--hover-bg-color);\n",
              "    box-shadow: 0 1px 2px rgba(60, 64, 67, 0.3), 0 1px 3px 1px rgba(60, 64, 67, 0.15);\n",
              "    fill: var(--button-hover-fill-color);\n",
              "  }\n",
              "\n",
              "  .colab-df-quickchart-complete:disabled,\n",
              "  .colab-df-quickchart-complete:disabled:hover {\n",
              "    background-color: var(--disabled-bg-color);\n",
              "    fill: var(--disabled-fill-color);\n",
              "    box-shadow: none;\n",
              "  }\n",
              "\n",
              "  .colab-df-spinner {\n",
              "    border: 2px solid var(--fill-color);\n",
              "    border-color: transparent;\n",
              "    border-bottom-color: var(--fill-color);\n",
              "    animation:\n",
              "      spin 1s steps(1) infinite;\n",
              "  }\n",
              "\n",
              "  @keyframes spin {\n",
              "    0% {\n",
              "      border-color: transparent;\n",
              "      border-bottom-color: var(--fill-color);\n",
              "      border-left-color: var(--fill-color);\n",
              "    }\n",
              "    20% {\n",
              "      border-color: transparent;\n",
              "      border-left-color: var(--fill-color);\n",
              "      border-top-color: var(--fill-color);\n",
              "    }\n",
              "    30% {\n",
              "      border-color: transparent;\n",
              "      border-left-color: var(--fill-color);\n",
              "      border-top-color: var(--fill-color);\n",
              "      border-right-color: var(--fill-color);\n",
              "    }\n",
              "    40% {\n",
              "      border-color: transparent;\n",
              "      border-right-color: var(--fill-color);\n",
              "      border-top-color: var(--fill-color);\n",
              "    }\n",
              "    60% {\n",
              "      border-color: transparent;\n",
              "      border-right-color: var(--fill-color);\n",
              "    }\n",
              "    80% {\n",
              "      border-color: transparent;\n",
              "      border-right-color: var(--fill-color);\n",
              "      border-bottom-color: var(--fill-color);\n",
              "    }\n",
              "    90% {\n",
              "      border-color: transparent;\n",
              "      border-bottom-color: var(--fill-color);\n",
              "    }\n",
              "  }\n",
              "</style>\n",
              "\n",
              "  <script>\n",
              "    async function quickchart(key) {\n",
              "      const quickchartButtonEl =\n",
              "        document.querySelector('#' + key + ' button');\n",
              "      quickchartButtonEl.disabled = true;  // To prevent multiple clicks.\n",
              "      quickchartButtonEl.classList.add('colab-df-spinner');\n",
              "      try {\n",
              "        const charts = await google.colab.kernel.invokeFunction(\n",
              "            'suggestCharts', [key], {});\n",
              "      } catch (error) {\n",
              "        console.error('Error during call to suggestCharts:', error);\n",
              "      }\n",
              "      quickchartButtonEl.classList.remove('colab-df-spinner');\n",
              "      quickchartButtonEl.classList.add('colab-df-quickchart-complete');\n",
              "    }\n",
              "    (() => {\n",
              "      let quickchartButtonEl =\n",
              "        document.querySelector('#df-04b39397-a3c8-4f9e-a3f0-bb17921cce78 button');\n",
              "      quickchartButtonEl.style.display =\n",
              "        google.colab.kernel.accessAllowed ? 'block' : 'none';\n",
              "    })();\n",
              "  </script>\n",
              "</div>\n",
              "\n",
              "    </div>\n",
              "  </div>\n"
            ],
            "application/vnd.google.colaboratory.intrinsic+json": {
              "type": "dataframe",
              "variable_name": "train_df"
            }
          },
          "metadata": {},
          "execution_count": 81
        }
      ]
    },
    {
      "cell_type": "code",
      "source": [
        "train_sentences = train_df.text.to_list()\n",
        "val_sentences = val_df.text.to_list()\n",
        "test_sentences = test_df.text.to_list()\n",
        "\n",
        "train_sentences[:2]"
      ],
      "metadata": {
        "id": "YXDkB6WzFR8g",
        "colab": {
          "base_uri": "https://localhost:8080/"
        },
        "outputId": "57054f08-646f-44bd-a7d1-bd0b180c59ee"
      },
      "execution_count": null,
      "outputs": [
        {
          "output_type": "execute_result",
          "data": {
            "text/plain": [
              "['si vous acceptez den commander 3000 nous vous faisons une remise de trois pour cent',\n",
              " 'tom está culpando a mary']"
            ]
          },
          "metadata": {},
          "execution_count": 82
        }
      ]
    },
    {
      "cell_type": "markdown",
      "source": [
        "### OneHot Encoding the Labels\n",
        "\n",
        "OneHot Encode the labels to convert categorical variables, such as class labels or words, into binary vectors, preserving relationships and enabling compatibility with machine learning algorithms."
      ],
      "metadata": {
        "id": "NSrJcPvWMOHs"
      }
    },
    {
      "cell_type": "code",
      "source": [
        "from sklearn.preprocessing import OneHotEncoder\n",
        "import numpy as np\n",
        "\n",
        "one_hot_encoder = OneHotEncoder(sparse_output=False)\n",
        "\n",
        "train_labels_one_hot = one_hot_encoder.fit_transform(train_df[\"language\"].to_numpy().reshape(-1, 1))\n",
        "val_labels_one_hot = one_hot_encoder.fit_transform(val_df[\"language\"].to_numpy().reshape(-1, 1))\n",
        "test_labels_one_hot = one_hot_encoder.fit_transform(test_df[\"language\"].to_numpy().reshape(-1, 1))\n",
        "\n",
        "train_labels_one_hot"
      ],
      "metadata": {
        "id": "r1sdJwpqFXR9",
        "colab": {
          "base_uri": "https://localhost:8080/"
        },
        "outputId": "83954aa2-addd-434b-c7c8-1c5465d01251"
      },
      "execution_count": null,
      "outputs": [
        {
          "output_type": "execute_result",
          "data": {
            "text/plain": [
              "array([[0., 1., 0., 0.],\n",
              "       [0., 0., 0., 1.],\n",
              "       [0., 0., 0., 1.],\n",
              "       ...,\n",
              "       [0., 0., 1., 0.],\n",
              "       [0., 0., 0., 1.],\n",
              "       [0., 0., 1., 0.]])"
            ]
          },
          "metadata": {},
          "execution_count": 83
        }
      ]
    },
    {
      "cell_type": "code",
      "source": [
        "from sklearn.preprocessing import LabelEncoder\n",
        "\n",
        "label_encoder = LabelEncoder()\n",
        "\n",
        "# Fit and transform on training set\n",
        "train_labels_encoded = label_encoder.fit_transform(train_df[\"language\"].to_numpy())\n",
        "\n",
        "# Transform validation and test sets using the same encoder fitted on the training set\n",
        "val_labels_encoded = label_encoder.transform(val_df[\"language\"].to_numpy())\n",
        "test_labels_encoded = label_encoder.transform(test_df[\"language\"].to_numpy())\n",
        "\n",
        "# Access encoded labels\n",
        "print(\"Encoded Train Labels:\", train_labels_encoded)\n",
        "\n",
        "# Reverse transformation to get original labels\n",
        "train_labels_original = label_encoder.inverse_transform(train_labels_encoded)\n",
        "val_labels_original = label_encoder.inverse_transform(val_labels_encoded)\n",
        "test_labels_original = label_encoder.inverse_transform(test_labels_encoded)\n",
        "\n",
        "# Print corresponding original labels\n",
        "print(\"Original Train Labels:\", train_labels_original)\n"
      ],
      "metadata": {
        "id": "dIFK8jlTFa6t",
        "colab": {
          "base_uri": "https://localhost:8080/"
        },
        "outputId": "f6b509e1-59d2-4a54-f606-1117505f0722"
      },
      "execution_count": null,
      "outputs": [
        {
          "output_type": "stream",
          "name": "stdout",
          "text": [
            "Encoded Train Labels: [1 3 3 ... 2 3 2]\n",
            "Original Train Labels: ['french' 'spanish' 'spanish' ... 'german' 'spanish' 'german']\n"
          ]
        }
      ]
    },
    {
      "cell_type": "markdown",
      "source": [
        "## Metrics for evaluation"
      ],
      "metadata": {
        "id": "UB5yXUoEKlwH"
      }
    },
    {
      "cell_type": "code",
      "source": [
        "from sklearn.metrics import accuracy_score, precision_recall_fscore_support\n",
        "def calculate_results(y_true, y_pred):\n",
        "  model_accuracy = accuracy_score(y_true, y_pred) * 100\n",
        "  model_precision, model_recall, model_f1, _ = precision_recall_fscore_support(y_true, y_pred, average='weighted')\n",
        "  return {'accuracy' : model_accuracy,\n",
        "          'precision' : model_precision,\n",
        "          'recall' : model_recall,\n",
        "          'f1' : model_f1}"
      ],
      "metadata": {
        "id": "SQ4u3QoGFfMr"
      },
      "execution_count": null,
      "outputs": []
    },
    {
      "cell_type": "markdown",
      "source": [
        "# Model 0"
      ],
      "metadata": {
        "id": "gKfqa6v7MplL"
      }
    },
    {
      "cell_type": "code",
      "source": [
        "from sklearn.feature_extraction.text import TfidfVectorizer\n",
        "from sklearn.naive_bayes import MultinomialNB\n",
        "from sklearn.pipeline import Pipeline\n",
        "\n",
        "model_0 = Pipeline([\n",
        "    (\"tfidf\", TfidfVectorizer()),\n",
        "    (\"clf\", MultinomialNB())\n",
        "])\n",
        "\n",
        "model_0.fit(train_sentences, train_labels_encoded)\n",
        "model_0_results = calculate_results(val_labels_encoded, model_0.predict(val_sentences))\n",
        "model_0_results"
      ],
      "metadata": {
        "id": "KbCzWEfqFmrP",
        "colab": {
          "base_uri": "https://localhost:8080/"
        },
        "outputId": "d1a9193f-5ba4-4356-a3bb-7da4249c1254"
      },
      "execution_count": null,
      "outputs": [
        {
          "output_type": "execute_result",
          "data": {
            "text/plain": [
              "{'accuracy': 99.86087241181765,\n",
              " 'precision': 0.9986113317826635,\n",
              " 'recall': 0.9986087241181766,\n",
              " 'f1': 0.9986085367960844}"
            ]
          },
          "metadata": {},
          "execution_count": 86
        }
      ]
    },
    {
      "cell_type": "markdown",
      "source": [
        "# Text Vectorization"
      ],
      "metadata": {
        "id": "YfSEzUByKuAR"
      }
    },
    {
      "cell_type": "code",
      "source": [
        "sent_length = [len(sentence.split()) for sentence in train_sentences]\n",
        "tf.math.reduce_mean(sent_length).numpy()\n",
        "\n"
      ],
      "metadata": {
        "id": "dw7OlMZBF1PW",
        "colab": {
          "base_uri": "https://localhost:8080/"
        },
        "outputId": "1ae49a54-cd7f-45b5-9ae5-cbe541e31428"
      },
      "execution_count": null,
      "outputs": [
        {
          "output_type": "execute_result",
          "data": {
            "text/plain": [
              "6"
            ]
          },
          "metadata": {},
          "execution_count": 87
        }
      ]
    },
    {
      "cell_type": "code",
      "source": [
        "int(np.percentile(sent_length, 95))"
      ],
      "metadata": {
        "id": "CVYFUGImGFVY",
        "colab": {
          "base_uri": "https://localhost:8080/"
        },
        "outputId": "b856e09a-48a1-4c25-ebf5-dd35614260e9"
      },
      "execution_count": null,
      "outputs": [
        {
          "output_type": "execute_result",
          "data": {
            "text/plain": [
              "11"
            ]
          },
          "metadata": {},
          "execution_count": 88
        }
      ]
    },
    {
      "cell_type": "code",
      "source": [
        "text_vectorizer = tf.keras.layers.TextVectorization(max_tokens=68000,\n",
        "                                                    output_sequence_length=55)\n",
        "text_vectorizer.adapt(train_sentences)# By adapting, they ensure that the numerical representations effectively capture the unique characteristics of the text data, leading to better model performance and generalization on various NLP tasks\n",
        "\n",
        "sample_sentence = 'oh hi today is a nice day'\n",
        "text_vectorizer([sample_sentence])"
      ],
      "metadata": {
        "id": "pxeh6DmMGIFQ",
        "colab": {
          "base_uri": "https://localhost:8080/"
        },
        "outputId": "4fc0e56b-6413-429d-90fa-2325622ce0d1"
      },
      "execution_count": null,
      "outputs": [
        {
          "output_type": "execute_result",
          "data": {
            "text/plain": [
              "<tf.Tensor: shape=(1, 55), dtype=int64, numpy=\n",
              "array([[4183, 8308,  346,   13,    3,  931,  276,    0,    0,    0,    0,\n",
              "           0,    0,    0,    0,    0,    0,    0,    0,    0,    0,    0,\n",
              "           0,    0,    0,    0,    0,    0,    0,    0,    0,    0,    0,\n",
              "           0,    0,    0,    0,    0,    0,    0,    0,    0,    0,    0,\n",
              "           0,    0,    0,    0,    0,    0,    0,    0,    0,    0,    0]])>"
            ]
          },
          "metadata": {},
          "execution_count": 89
        }
      ]
    },
    {
      "cell_type": "markdown",
      "source": [
        "# Embedding"
      ],
      "metadata": {
        "id": "SmYU-De-KznI"
      }
    },
    {
      "cell_type": "code",
      "source": [
        "embedding = tf.keras.layers.Embedding(input_dim = 68000,\n",
        "                                      output_dim=128,\n",
        "                                      input_length=55,\n",
        "                                      mask_zero=True)\n",
        "\n",
        "embedding(text_vectorizer([sample_sentence]))"
      ],
      "metadata": {
        "id": "O0BasL7iGQ7h",
        "colab": {
          "base_uri": "https://localhost:8080/"
        },
        "outputId": "2277d068-185f-4c86-9304-d0692a63be96"
      },
      "execution_count": null,
      "outputs": [
        {
          "output_type": "execute_result",
          "data": {
            "text/plain": [
              "<tf.Tensor: shape=(1, 55, 128), dtype=float32, numpy=\n",
              "array([[[-0.02363851, -0.04439172,  0.04848707, ...,  0.025728  ,\n",
              "          0.03095187,  0.01617611],\n",
              "        [-0.01107991, -0.00331587,  0.02133738, ..., -0.04214866,\n",
              "         -0.04487292,  0.00806627],\n",
              "        [-0.03447198, -0.0481203 ,  0.0470163 , ...,  0.0333493 ,\n",
              "          0.01920595,  0.0438226 ],\n",
              "        ...,\n",
              "        [ 0.01220573,  0.01812663,  0.03520261, ...,  0.02812419,\n",
              "          0.00619726, -0.04169295],\n",
              "        [ 0.01220573,  0.01812663,  0.03520261, ...,  0.02812419,\n",
              "          0.00619726, -0.04169295],\n",
              "        [ 0.01220573,  0.01812663,  0.03520261, ...,  0.02812419,\n",
              "          0.00619726, -0.04169295]]], dtype=float32)>"
            ]
          },
          "metadata": {},
          "execution_count": 90
        }
      ]
    },
    {
      "cell_type": "code",
      "source": [
        "train_dataset = tf.data.Dataset.from_tensor_slices((train_sentences, train_labels_one_hot))\n",
        "val_dataset = tf.data.Dataset.from_tensor_slices((val_sentences, val_labels_one_hot))\n",
        "test_dataset = tf.data.Dataset.from_tensor_slices((test_sentences, test_labels_one_hot))\n",
        "\n",
        "train_dataset"
      ],
      "metadata": {
        "id": "54f3QT0IJL-r",
        "colab": {
          "base_uri": "https://localhost:8080/"
        },
        "outputId": "8ca35449-99fd-4c79-a43d-7c21c5c8c2ec"
      },
      "execution_count": null,
      "outputs": [
        {
          "output_type": "execute_result",
          "data": {
            "text/plain": [
              "<_TensorSliceDataset element_spec=(TensorSpec(shape=(), dtype=tf.string, name=None), TensorSpec(shape=(4,), dtype=tf.float64, name=None))>"
            ]
          },
          "metadata": {},
          "execution_count": 91
        }
      ]
    },
    {
      "cell_type": "code",
      "source": [
        "train_dataset = train_dataset.batch(64).prefetch(tf.data.AUTOTUNE)\n",
        "val_dataset = val_dataset.batch(64).prefetch(tf.data.AUTOTUNE)\n",
        "test_dataset = test_dataset.batch(64).prefetch(tf.data.AUTOTUNE)\n",
        "\n",
        "train_dataset"
      ],
      "metadata": {
        "id": "JTPXC-dBJR-m",
        "colab": {
          "base_uri": "https://localhost:8080/"
        },
        "outputId": "37e99e0c-2bae-48bf-a18c-99864449df6a"
      },
      "execution_count": null,
      "outputs": [
        {
          "output_type": "execute_result",
          "data": {
            "text/plain": [
              "<_PrefetchDataset element_spec=(TensorSpec(shape=(None,), dtype=tf.string, name=None), TensorSpec(shape=(None, 4), dtype=tf.float64, name=None))>"
            ]
          },
          "metadata": {},
          "execution_count": 92
        }
      ]
    },
    {
      "cell_type": "markdown",
      "source": [
        "# Model Development"
      ],
      "metadata": {
        "id": "sTNmUNwSK5my"
      }
    },
    {
      "cell_type": "code",
      "source": [
        "inputs = tf.keras.layers.Input(shape=(1, ), dtype='string')\n",
        "x = text_vectorizer(inputs)\n",
        "x = embedding(x)\n",
        "x = tf.keras.layers.Conv1D(64, kernel_size=5)(x)\n",
        "x = tf.keras.layers.GlobalAveragePooling1D()(x)\n",
        "outputs = tf.keras.layers.Dense(num_classes, activation='softmax')(x)\n",
        "\n",
        "model_1 = tf.keras.models.Model(inputs, outputs)\n",
        "\n",
        "model_1.compile(loss=tf.keras.losses.CategoricalCrossentropy(),\n",
        "                optimizer=tf.keras.optimizers.Adam(),\n",
        "                metrics=['accuracy'])\n",
        "history_1 = model_1.fit(train_dataset,\n",
        "                        epochs=3,\n",
        "                        steps_per_epoch = len(train_dataset),\n",
        "                        validation_data = val_dataset,\n",
        "                        validation_steps = int(0.2*len(val_dataset)))"
      ],
      "metadata": {
        "id": "5a4n8GjrJSZY",
        "colab": {
          "base_uri": "https://localhost:8080/"
        },
        "outputId": "40ffe22c-ecd2-4add-cc9e-f1bded3bc2e4"
      },
      "execution_count": null,
      "outputs": [
        {
          "output_type": "stream",
          "name": "stdout",
          "text": [
            "Epoch 1/3\n",
            "7637/7637 [==============================] - 63s 8ms/step - loss: 0.0392 - accuracy: 0.9868 - val_loss: 0.0055 - val_accuracy: 0.9979\n",
            "Epoch 2/3\n",
            "7637/7637 [==============================] - 51s 7ms/step - loss: 0.0026 - accuracy: 0.9992 - val_loss: 0.0041 - val_accuracy: 0.9985\n",
            "Epoch 3/3\n",
            "7637/7637 [==============================] - 52s 7ms/step - loss: 0.0014 - accuracy: 0.9995 - val_loss: 0.0045 - val_accuracy: 0.9982\n"
          ]
        }
      ]
    },
    {
      "cell_type": "code",
      "source": [
        "pd.DataFrame(history_1.history).plot()"
      ],
      "metadata": {
        "colab": {
          "base_uri": "https://localhost:8080/",
          "height": 447
        },
        "id": "Od1kyXw2xMOS",
        "outputId": "64548cd1-ac28-4352-8538-e034df0b41f5"
      },
      "execution_count": null,
      "outputs": [
        {
          "output_type": "execute_result",
          "data": {
            "text/plain": [
              "<Axes: >"
            ]
          },
          "metadata": {},
          "execution_count": 104
        },
        {
          "output_type": "display_data",
          "data": {
            "text/plain": [
              "<Figure size 640x480 with 1 Axes>"
            ],
            "image/png": "[encoded data removed]"
          },
          "metadata": {}
        }
      ]
    },
    {
      "cell_type": "code",
      "source": [
        "model_1.evaluate(test_dataset)"
      ],
      "metadata": {
        "id": "xhZIQ6s9JVDu",
        "colab": {
          "base_uri": "https://localhost:8080/"
        },
        "outputId": "0b4e3dae-4049-4b25-a5e6-83f064208068"
      },
      "execution_count": null,
      "outputs": [
        {
          "output_type": "stream",
          "name": "stdout",
          "text": [
            "2387/2387 [==============================] - 9s 4ms/step - loss: 0.0055 - accuracy: 0.9980\n"
          ]
        },
        {
          "output_type": "execute_result",
          "data": {
            "text/plain": [
              "[0.005478627514094114, 0.9980358481407166]"
            ]
          },
          "metadata": {},
          "execution_count": 94
        }
      ]
    },
    {
      "cell_type": "code",
      "source": [
        "prediction_array=model_1.predict(['hallo ich bin pranav,ich komme aus indien'])\n",
        "# Find the index of the maximum probability\n",
        "predicted_index = np.argmax(prediction_array)\n",
        "\n",
        "# Use inverse_transform to map the index back to the original language\n",
        "predicted_language = label_encoder.inverse_transform([predicted_index])\n",
        "\n",
        "print(\"Predicted Language:\", predicted_language[0])\n"
      ],
      "metadata": {
        "colab": {
          "base_uri": "https://localhost:8080/"
        },
        "id": "s5Vo_cz0qXgt",
        "outputId": "42d409ba-d485-4aab-b335-b773bedf941c"
      },
      "execution_count": null,
      "outputs": [
        {
          "output_type": "stream",
          "name": "stdout",
          "text": [
            "1/1 [==============================] - 0s 48ms/step\n",
            "Predicted Language: german\n"
          ]
        }
      ]
    },
    {
      "cell_type": "code",
      "source": [
        "from tensorflow.keras.utils import plot_model\n",
        "plot_model(model_1)"
      ],
      "metadata": {
        "colab": {
          "base_uri": "https://localhost:8080/",
          "height": 564
        },
        "id": "UuYP-mHHhXEb",
        "outputId": "89a5ccfe-cb86-47ea-90d0-a296078c61e6"
      },
      "execution_count": null,
      "outputs": [
        {
          "output_type": "execute_result",
          "data": {
            "image/png": "[encoded data removed]",
            "text/plain": [
              "<IPython.core.display.Image object>"
            ]
          },
          "metadata": {},
          "execution_count": 96
        }
      ]
    }
  ]
}